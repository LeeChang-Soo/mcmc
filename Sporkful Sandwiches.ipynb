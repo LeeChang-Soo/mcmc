{
 "cells": [
  {
   "cell_type": "markdown",
   "metadata": {},
   "source": [
    "# Sporkful Sandwiches\n",
    "\n",
    "Sandwich data from a recent [Sporkful podcast episode][sporkful]:\n",
    "\n",
    "> A while back we had legendary food critic Mimi Sheraton on the show. She told a story about a time she had 104 pastrami sandwiches in her car. She was taking them to a scale to weigh them to see which Jewish deli gave you the biggest sandwich for your money.\n",
    "> \n",
    "> A Sporkful listener named Bill in San Clemente, California, heard that episode and called in with a pretty provocative question...\n",
    "> \n",
    "> __Do places make smaller sandwiches for women?__\n",
    "\n",
    "[sporkful]: http://www.sporkful.com/is-sandwich-sexism-real/"
   ]
  },
  {
   "cell_type": "code",
   "execution_count": 9,
   "metadata": {},
   "outputs": [],
   "source": [
    "%matplotlib inline\n",
    "%config InlineBackend.figure_format = \"retina\"\n",
    "\n",
    "import numpy as np\n",
    "import pandas as pd\n",
    "import pymc3 as pm\n",
    "from pymc3.distributions.distribution import Bounded\n",
    "from scipy import stats as st\n",
    "\n",
    "from utils import plt, sns"
   ]
  },
  {
   "cell_type": "code",
   "execution_count": 2,
   "metadata": {},
   "outputs": [
    {
     "data": {
      "text/html": [
       "<div>\n",
       "<style>\n",
       "    .dataframe thead tr:only-child th {\n",
       "        text-align: right;\n",
       "    }\n",
       "\n",
       "    .dataframe thead th {\n",
       "        text-align: left;\n",
       "    }\n",
       "\n",
       "    .dataframe tbody tr th {\n",
       "        vertical-align: top;\n",
       "    }\n",
       "</style>\n",
       "<table border=\"1\" class=\"dataframe\">\n",
       "  <thead>\n",
       "    <tr style=\"text-align: right;\">\n",
       "      <th></th>\n",
       "      <th>female</th>\n",
       "      <th>deli</th>\n",
       "      <th>sandwich</th>\n",
       "    </tr>\n",
       "  </thead>\n",
       "  <tbody>\n",
       "    <tr>\n",
       "      <th>0</th>\n",
       "      <td>0</td>\n",
       "      <td>1</td>\n",
       "      <td>10.6</td>\n",
       "    </tr>\n",
       "    <tr>\n",
       "      <th>1</th>\n",
       "      <td>0</td>\n",
       "      <td>2</td>\n",
       "      <td>22.2</td>\n",
       "    </tr>\n",
       "    <tr>\n",
       "      <th>2</th>\n",
       "      <td>0</td>\n",
       "      <td>3</td>\n",
       "      <td>12.0</td>\n",
       "    </tr>\n",
       "    <tr>\n",
       "      <th>3</th>\n",
       "      <td>0</td>\n",
       "      <td>4</td>\n",
       "      <td>11.7</td>\n",
       "    </tr>\n",
       "    <tr>\n",
       "      <th>4</th>\n",
       "      <td>1</td>\n",
       "      <td>1</td>\n",
       "      <td>10.9</td>\n",
       "    </tr>\n",
       "  </tbody>\n",
       "</table>\n",
       "</div>"
      ],
      "text/plain": [
       "   female  deli  sandwich\n",
       "0       0     1      10.6\n",
       "1       0     2      22.2\n",
       "2       0     3      12.0\n",
       "3       0     4      11.7\n",
       "4       1     1      10.9"
      ]
     },
     "execution_count": 2,
     "metadata": {},
     "output_type": "execute_result"
    }
   ],
   "source": [
    "# Sandwich data is in ounces...\n",
    "cols = [\"female\", \"deli\", \"sandwich\"]\n",
    "df = pd.DataFrame([\n",
    "    # Male sandwiches\n",
    "    [0, 1, 10.6],\n",
    "    [0, 2, 22.2],\n",
    "    [0, 3, 12.0],\n",
    "    [0, 4, 11.7],\n",
    "    # Female sandwiches\n",
    "    [1, 1, 10.9],\n",
    "    [1, 2, 25.1],\n",
    "    [1, 3, 10.8],\n",
    "    [1, 4, 13.7],\n",
    "], columns=cols)\n",
    "df.head()"
   ]
  },
  {
   "cell_type": "code",
   "execution_count": 12,
   "metadata": {},
   "outputs": [
    {
     "ename": "ValueError",
     "evalue": "Observed Bound distributions are not allowed. If you want to model truncated data you can use a pm.Potential in combination with the cumulative probability function. See pymc3/examples/censored_data.py for an example.",
     "output_type": "error",
     "traceback": [
      "\u001b[0;31m---------------------------------------------------------------------------\u001b[0m",
      "\u001b[0;31mValueError\u001b[0m                                Traceback (most recent call last)",
      "\u001b[0;32m<ipython-input-12-a2ba38eb8cbe>\u001b[0m in \u001b[0;36m<module>\u001b[0;34m()\u001b[0m\n\u001b[1;32m     15\u001b[0m \u001b[0;34m\u001b[0m\u001b[0m\n\u001b[1;32m     16\u001b[0m     \u001b[0;31m# Likelihood\u001b[0m\u001b[0;34m\u001b[0m\u001b[0;34m\u001b[0m\u001b[0m\n\u001b[0;32m---> 17\u001b[0;31m     \u001b[0my\u001b[0m \u001b[0;34m=\u001b[0m \u001b[0mBoundedNormal\u001b[0m\u001b[0;34m(\u001b[0m\u001b[0;34m\"y\"\u001b[0m\u001b[0;34m,\u001b[0m \u001b[0mmu\u001b[0m\u001b[0;34m=\u001b[0m\u001b[0mtheta\u001b[0m\u001b[0;34m,\u001b[0m \u001b[0msd\u001b[0m\u001b[0;34m=\u001b[0m\u001b[0msigma\u001b[0m\u001b[0;34m,\u001b[0m \u001b[0mobserved\u001b[0m\u001b[0;34m=\u001b[0m\u001b[0mdf\u001b[0m\u001b[0;34m.\u001b[0m\u001b[0msandwich\u001b[0m\u001b[0;34m.\u001b[0m\u001b[0mvalues\u001b[0m\u001b[0;34m)\u001b[0m\u001b[0;34m\u001b[0m\u001b[0m\n\u001b[0m\u001b[1;32m     18\u001b[0m \u001b[0;34m\u001b[0m\u001b[0m\n\u001b[1;32m     19\u001b[0m     \u001b[0;31m# Sample\u001b[0m\u001b[0;34m\u001b[0m\u001b[0;34m\u001b[0m\u001b[0m\n",
      "\u001b[0;32m/usr/local/lib/python2.7/site-packages/pymc3/distributions/distribution.pyc\u001b[0m in \u001b[0;36m__call__\u001b[0;34m(self, *args, **kwargs)\u001b[0m\n\u001b[1;32m    507\u001b[0m     \u001b[0;32mdef\u001b[0m \u001b[0m__call__\u001b[0m\u001b[0;34m(\u001b[0m\u001b[0mself\u001b[0m\u001b[0;34m,\u001b[0m \u001b[0;34m*\u001b[0m\u001b[0margs\u001b[0m\u001b[0;34m,\u001b[0m \u001b[0;34m**\u001b[0m\u001b[0mkwargs\u001b[0m\u001b[0;34m)\u001b[0m\u001b[0;34m:\u001b[0m\u001b[0;34m\u001b[0m\u001b[0m\n\u001b[1;32m    508\u001b[0m         \u001b[0;32mif\u001b[0m \u001b[0;34m'observed'\u001b[0m \u001b[0;32min\u001b[0m \u001b[0mkwargs\u001b[0m\u001b[0;34m:\u001b[0m\u001b[0;34m\u001b[0m\u001b[0m\n\u001b[0;32m--> 509\u001b[0;31m             raise ValueError('Observed Bound distributions are not allowed. '\n\u001b[0m\u001b[1;32m    510\u001b[0m                              \u001b[0;34m'If you want to model truncated data '\u001b[0m\u001b[0;34m\u001b[0m\u001b[0m\n\u001b[1;32m    511\u001b[0m                              \u001b[0;34m'you can use a pm.Potential in combination '\u001b[0m\u001b[0;34m\u001b[0m\u001b[0m\n",
      "\u001b[0;31mValueError\u001b[0m: Observed Bound distributions are not allowed. If you want to model truncated data you can use a pm.Potential in combination with the cumulative probability function. See pymc3/examples/censored_data.py for an example."
     ]
    }
   ],
   "source": [
    "with pm.Model() as model:\n",
    "    # Custom Distributions\n",
    "    BoundedNormal = pm.Bound(pm.Normal, lower=0.0, upper=100.0)\n",
    "    \n",
    "    # Priors\n",
    "    intercept = pm.Normal(\"intercept\", 0, 10)\n",
    "\n",
    "    beta_mu = pm.Normal(\"beta_mu\", 0, 10)\n",
    "    beta_sigma = pm.HalfCauchy(\"beta_sigma\", 2.5)  # Gelman 2006\n",
    "    beta_nu = pm.Gamma(\"beta_nu\", 2, 0.1)          # From the `Stan` docs\n",
    "    beta = pm.StudentT(\"beta\", nu=beta_nu, mu=beta_mu, sd=beta_sigma, shape=2)\n",
    "\n",
    "    theta = intercept + beta[df.female.values]\n",
    "    sigma = pm.HalfCauchy(\"sigma\", 2.5)\n",
    "\n",
    "    # Likelihood\n",
    "    y = BoundedNormal(\"y\", mu=theta, sd=sigma, observed=df.sandwich.values)\n",
    "\n",
    "    # Sample\n",
    "    trace = pm.sample(draws=5000, njobs=4, chain=4)\n",
    "\n",
    "burn_in = 1000\n",
    "trace = trace[burn_in:]"
   ]
  },
  {
   "cell_type": "code",
   "execution_count": null,
   "metadata": {},
   "outputs": [],
   "source": [
    "print(pm.df_summary(trace))\n",
    "pm.traceplot(trace)"
   ]
  },
  {
   "cell_type": "code",
   "execution_count": null,
   "metadata": {},
   "outputs": [],
   "source": [
    "pm.plot_posterior(trace, point_estimate=\"median\")"
   ]
  },
  {
   "cell_type": "code",
   "execution_count": null,
   "metadata": {},
   "outputs": [],
   "source": [
    "pm.diagnostics.gelman_rubin(trace)"
   ]
  },
  {
   "cell_type": "markdown",
   "metadata": {},
   "source": [
    "## Predictions"
   ]
  },
  {
   "cell_type": "code",
   "execution_count": null,
   "metadata": {},
   "outputs": [],
   "source": [
    "ppc = pm.sample_ppc(trace, samples=2000, model=model)"
   ]
  },
  {
   "cell_type": "code",
   "execution_count": null,
   "metadata": {},
   "outputs": [],
   "source": [
    "print(len(ppc[\"y\"]))\n",
    "ppc"
   ]
  },
  {
   "cell_type": "code",
   "execution_count": null,
   "metadata": {},
   "outputs": [],
   "source": [
    "male = pd.Series(ppc[\"y\"][:, :4].ravel())\n",
    "female = pd.Series(ppc[\"y\"][:, 4:].ravel())\n",
    "\n",
    "print male.head()\n",
    "print(\"\\n\")\n",
    "print female.head()"
   ]
  },
  {
   "cell_type": "code",
   "execution_count": null,
   "metadata": {},
   "outputs": [],
   "source": [
    "print(male.describe())\n",
    "print(female.describe())"
   ]
  },
  {
   "cell_type": "code",
   "execution_count": null,
   "metadata": {},
   "outputs": [],
   "source": [
    "sns.kdeplot(male, shade=True, label=\"Male\")\n",
    "sns.kdeplot(female, shade=True, label=\"Female\")"
   ]
  },
  {
   "cell_type": "markdown",
   "metadata": {},
   "source": [
    "## Conclusion\n",
    "\n",
    "The distributions are almost exactly the same!"
   ]
  }
 ],
 "metadata": {
  "kernelspec": {
   "display_name": "Python 2",
   "language": "python",
   "name": "python2"
  },
  "language_info": {
   "codemirror_mode": {
    "name": "ipython",
    "version": 2
   },
   "file_extension": ".py",
   "mimetype": "text/x-python",
   "name": "python",
   "nbconvert_exporter": "python",
   "pygments_lexer": "ipython2",
   "version": "2.7.13"
  }
 },
 "nbformat": 4,
 "nbformat_minor": 2
}
